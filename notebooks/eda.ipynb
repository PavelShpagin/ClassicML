{
 "cells": [
  {
   "cell_type": "markdown",
   "id": "0b34762d",
   "metadata": {},
   "source": [
    "# China Real Estate Demand Prediction - EDA\n",
    "\n",
    "This notebook explores the training data: distributions, missingness, correlations, and time series patterns.\n",
    "\n",
    "- Load all CSVs from `data/raw/train`\n",
    "- Parse `month` and `sector` into structured fields\n",
    "- Visualize distributions and trends\n",
    "- Identify leakage risks (no future info when predicting a month)\n",
    "\n"
   ]
  },
  {
   "cell_type": "code",
   "execution_count": null,
   "id": "7452c21d",
   "metadata": {},
   "outputs": [],
   "source": [
    "import os\n",
    "import pandas as pd\n",
    "import numpy as np\n",
    "import seaborn as sns\n",
    "import matplotlib.pyplot as plt\n",
    "\n",
    "from pathlib import Path\n",
    "import plotly.express as px\n",
    "\n",
    "import sys\n",
    "sys.path.append(str(Path('..').resolve().parent))\n",
    "\n",
    "from src.data import DatasetPaths, load_all_training_tables, split_month_sector\n",
    "from src.features import aggregate_monthly_totals\n",
    "\n",
    "paths = DatasetPaths(root_dir=str(Path('..').resolve().parent))\n",
    "train = load_all_training_tables(paths)\n",
    "\n",
    "nht = train['new_house_transactions']\n",
    "nht_aug = split_month_sector(nht)\n",
    "\n",
    "print(nht_aug.head())\n",
    "\n"
   ]
  },
  {
   "cell_type": "code",
   "execution_count": null,
   "id": "fd7f6784",
   "metadata": {},
   "outputs": [],
   "source": [
    "# Distributions of target and key numeric columns\n",
    "fig, axes = plt.subplots(1, 2, figsize=(14, 5))\n",
    "sns.histplot(nht_aug['amount_new_house_transactions'], bins=50, ax=axes[0])\n",
    "axes[0].set_title('Distribution of amount_new_house_transactions')\n",
    "\n",
    "sns.histplot(nht_aug['price_new_house_transactions'], bins=50, ax=axes[1])\n",
    "axes[1].set_title('Distribution of price_new_house_transactions')\n",
    "plt.tight_layout()\n",
    "plt.show()\n",
    "\n",
    "# Time series total across sectors\n",
    "monthly_total = aggregate_monthly_totals(nht)\n",
    "px.line(monthly_total, x='time', y='amount_new_house_transactions', title='Total amount per time').show()\n",
    "\n"
   ]
  }
 ],
 "metadata": {
  "language_info": {
   "name": "python"
  }
 },
 "nbformat": 4,
 "nbformat_minor": 5
}
