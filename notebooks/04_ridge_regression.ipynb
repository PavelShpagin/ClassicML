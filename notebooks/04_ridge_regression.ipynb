{
 "cells": [
  {
   "cell_type": "markdown",
   "metadata": {},
   "source": [
    "# Ridge Regression Method\n",
    "\n",
    "This notebook implements Ridge regression with engineered features:\n",
    "- Lag features (1-6 months)\n",
    "- Rolling statistics (mean, geometric mean)\n",
    "- Time-series cross-validation\n",
    "- Regularization tuning\n",
    "- Competition metric evaluation"
   ]
  },
  {
   "cell_type": "code",
   "execution_count": null,
   "metadata": {},
   "outputs": [],
   "source": [
    "import sys\n",
    "from pathlib import Path\n",
    "sys.path.append(str(Path('..').resolve()))\n",
    "\n",
    "import pandas as pd\n",
    "import numpy as np\n",
    "import matplotlib.pyplot as plt\n",
    "from sklearn.linear_model import Ridge\n",
    "from sklearn.preprocessing import StandardScaler\n",
    "from sklearn.pipeline import Pipeline\n",
    "\n",
    "from src.data import DatasetPaths, load_all_training_tables\n",
    "from src.features import build_time_lagged_features\n",
    "from src.models import competition_score, build_linear_pipeline\n",
    "\n",
    "plt.rcParams['figure.figsize'] = (12, 6)"
   ]
  },
  {
   "cell_type": "code",
   "execution_count": null,
   "metadata": {},
   "outputs": [],
   "source": [
    "# Load data\n",
    "paths = DatasetPaths(root_dir=str(Path('..').resolve()))\n",
    "train = load_all_training_tables(paths)\n",
    "nht = train['new_house_transactions']\n",
    "print(f\"Training records: {len(nht)}\")"
   ]
  },
  {
   "cell_type": "markdown",
   "metadata": {},
   "source": [
    "## Feature Engineering"
   ]
  },
  {
   "cell_type": "code",
   "execution_count": null,
   "metadata": {},
   "outputs": [],
   "source": [
    "# Build lag and rolling features\n",
    "lag_feats = build_time_lagged_features(nht)\n",
    "print(f\"Feature table shape: {lag_feats.shape}\")\n",
    "print(f\"\\nFeatures:\")\n",
    "feature_cols = [c for c in lag_feats.columns if c.startswith('lag_') or c.startswith('roll_')]\n",
    "print(feature_cols)"
   ]
  },
  {
   "cell_type": "code",
   "execution_count": null,
   "metadata": {},
   "outputs": [],
   "source": [
    "# Prepare X, y\n",
    "from src.data import prepare_train_target\n",
    "target_wide, sector_index = prepare_train_target(nht)\n",
    "\n",
    "y_long = target_wide.unstack().reset_index(name='y')\n",
    "y_long = y_long.rename(columns={'level_0': 'sector_id'})\n",
    "\n",
    "df = lag_feats.merge(y_long, on=['time', 'sector_id'], how='left')\n",
    "df = df.dropna(subset=feature_cols).copy()\n",
    "\n",
    "X = df[feature_cols]\n",
    "y = df['y']\n",
    "\n",
    "print(f\"\\nModeling dataset: {X.shape}\")\n",
    "print(f\"Target statistics:\")\n",
    "print(y.describe())"
   ]
  },
  {
   "cell_type": "markdown",
   "metadata": {},
   "source": [
    "## Hyperparameter Tuning: Alpha (Regularization)"
   ]
  },
  {
   "cell_type": "code",
   "execution_count": null,
   "metadata": {},
   "outputs": [],
   "source": [
    "# Grid search over alpha\n",
    "alphas = np.logspace(-2, 3, 15)\n",
    "results = []\n",
    "\n",
    "# Time-series split: train on t <= 54, validate on t > 54\n",
    "mask_train = df['time'] <= 54\n",
    "X_tr, y_tr = X[mask_train], y[mask_train]\n",
    "X_va, y_va = X[~mask_train], y[~mask_train]\n",
    "\n",
    "print(f\"Train: {X_tr.shape}, Validation: {X_va.shape}\")\n",
    "\n",
    "for alpha in alphas:\n",
    "    pipe = build_linear_pipeline(alpha=alpha, kind='ridge')\n",
    "    pipe.fit(X_tr, y_tr)\n",
    "    yhat = pipe.predict(X_va)\n",
    "    \n",
    "    score_dict = competition_score(y_va.values, yhat)\n",
    "    results.append({\n",
    "        'alpha': alpha,\n",
    "        'score': score_dict['score'],\n",
    "        'good_rate': score_dict['good_rate']\n",
    "    })\n",
    "\n",
    "results_df = pd.DataFrame(results)\n",
    "best_alpha = results_df.loc[results_df['score'].idxmin(), 'alpha']\n",
    "print(f\"\\nBest alpha: {best_alpha:.4f}\")\n",
    "print(results_df.sort_values('score').head())"
   ]
  },
  {
   "cell_type": "code",
   "execution_count": null,
   "metadata": {},
   "outputs": [],
   "source": [
    "# Plot regularization curves\n",
    "fig, axes = plt.subplots(1, 2, figsize=(14, 5))\n",
    "\n",
    "axes[0].plot(results_df['alpha'], results_df['score'], marker='o', linewidth=2)\n",
    "axes[0].axvline(best_alpha, color='red', linestyle='--', label=f'Best: {best_alpha:.4f}')\n",
    "axes[0].set_xscale('log')\n",
    "axes[0].set_title('Competition Score vs Alpha')\n",
    "axes[0].set_xlabel('Alpha (regularization)')\n",
    "axes[0].set_ylabel('Competition Score')\n",
    "axes[0].legend()\n",
    "axes[0].grid(True, alpha=0.3)\n",
    "\n",
    "axes[1].plot(results_df['alpha'], results_df['good_rate'], marker='o', linewidth=2, color='orange')\n",
    "axes[1].axvline(best_alpha, color='red', linestyle='--', label=f'Best: {best_alpha:.4f}')\n",
    "axes[1].set_xscale('log')\n",
    "axes[1].set_title('Good Rate vs Alpha')\n",
    "axes[1].set_xlabel('Alpha (regularization)')\n",
    "axes[1].set_ylabel('Good Rate')\n",
    "axes[1].legend()\n",
    "axes[1].grid(True, alpha=0.3)\n",
    "\n",
    "plt.tight_layout()\n",
    "plt.show()"
   ]
  },
  {
   "cell_type": "markdown",
   "metadata": {},
   "source": [
    "## Final Model Training & Validation"
   ]
  },
  {
   "cell_type": "code",
   "execution_count": null,
   "metadata": {},
   "outputs": [],
   "source": [
    "# Train final model with best alpha\n",
    "pipe_final = build_linear_pipeline(alpha=best_alpha, kind='ridge')\n",
    "pipe_final.fit(X_tr, y_tr)\n",
    "\n",
    "yhat_va = pipe_final.predict(X_va)\n",
    "final_score = competition_score(y_va.values, yhat_va)\n",
    "\n",
    "print(f\"\\nFinal Validation Results:\")\n",
    "print(f\"  Competition Score: {final_score['score']:.4f}\")\n",
    "print(f\"  Good Rate: {final_score['good_rate']:.4f}\")\n",
    "print(f\"  Predictions < 0: {(yhat_va < 0).sum()}\")\n",
    "print(f\"  Predictions = 0: {(yhat_va == 0).sum()}\")"
   ]
  },
  {
   "cell_type": "code",
   "execution_count": null,
   "metadata": {},
   "outputs": [],
   "source": [
    "# Feature importance (coefficient magnitudes)\n",
    "coefs = pipe_final.named_steps['ridge'].coef_\n",
    "feature_importance = pd.DataFrame({\n",
    "    'feature': feature_cols,\n",
    "    'coefficient': coefs,\n",
    "    'abs_coefficient': np.abs(coefs)\n",
    "}).sort_values('abs_coefficient', ascending=False)\n",
    "\n",
    "print(f\"\\nTop 10 Features by Coefficient Magnitude:\")\n",
    "print(feature_importance.head(10))\n",
    "\n",
    "fig, ax = plt.subplots(1, 1, figsize=(10, 6))\n",
    "top_features = feature_importance.head(15)\n",
    "ax.barh(top_features['feature'], top_features['abs_coefficient'], edgecolor='black')\n",
    "ax.set_xlabel('Absolute Coefficient')\n",
    "ax.set_title('Top 15 Features by Importance')\n",
    "ax.invert_yaxis()\n",
    "plt.tight_layout()\n",
    "plt.show()"
   ]
  },
  {
   "cell_type": "markdown",
   "metadata": {},
   "source": [
    "## Error Analysis"
   ]
  },
  {
   "cell_type": "code",
   "execution_count": null,
   "metadata": {},
   "outputs": [],
   "source": [
    "# APE distribution\n",
    "ape = np.abs((y_va.values - yhat_va) / np.maximum(y_va.values, 1e-12))\n",
    "\n",
    "fig, axes = plt.subplots(1, 2, figsize=(14, 5))\n",
    "\n",
    "axes[0].hist(ape[ape < 2], bins=50, edgecolor='black', alpha=0.7)\n",
    "axes[0].axvline(1.0, color='red', linestyle='--', label='APE = 100%')\n",
    "axes[0].set_title('APE Distribution')\n",
    "axes[0].set_xlabel('Absolute Percentage Error')\n",
    "axes[0].set_ylabel('Frequency')\n",
    "axes[0].legend()\n",
    "axes[0].grid(True, alpha=0.3)\n",
    "\n",
    "axes[1].scatter(y_va.values, yhat_va, alpha=0.3, s=10)\n",
    "axes[1].plot([0, y_va.max()], [0, y_va.max()], 'r--', label='Perfect')\n",
    "axes[1].set_title('Predictions vs True')\n",
    "axes[1].set_xlabel('True Values')\n",
    "axes[1].set_ylabel('Predictions')\n",
    "axes[1].legend()\n",
    "axes[1].grid(True, alpha=0.3)\n",
    "\n",
    "plt.tight_layout()\n",
    "plt.show()\n",
    "\n",
    "print(f\"\\nAPE Statistics:\")\n",
    "print(f\"  Mean APE: {ape.mean():.4f}\")\n",
    "print(f\"  Median APE: {np.median(ape):.4f}\")\n",
    "print(f\"  APE < 100%: {(ape < 1.0).mean():.2%}\")"
   ]
  },
  {
   "cell_type": "markdown",
   "metadata": {},
   "source": [
    "## Summary\n",
    "\n",
    "**Method**: Ridge regression with lag/rolling features\n",
    "\n",
    "**Advantages**:\n",
    "- Captures temporal dependencies\n",
    "- Interpretable coefficients\n",
    "- Regularization prevents overfitting\n",
    "\n",
    "**Disadvantages**:\n",
    "- Worse than simple baselines due to metric sensitivity\n",
    "- Produces some negative predictions\n",
    "- Doesn't handle zeros well"
   ]
  }
 ],
 "metadata": {
  "kernelspec": {
   "display_name": "Python 3",
   "language": "python",
   "name": "python3"
  },
  "language_info": {
   "name": "python",
   "version": "3.10.0"
  }
 },
 "nbformat": 4,
 "nbformat_minor": 4
}